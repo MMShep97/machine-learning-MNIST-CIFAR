{
  "nbformat": 4,
  "nbformat_minor": 0,
  "metadata": {
    "colab": {
      "name": "demo.ipynb",
      "provenance": [],
      "collapsed_sections": []
    },
    "kernelspec": {
      "name": "python3",
      "display_name": "Python 3"
    },
    "accelerator": "GPU"
  },
  "cells": [
    {
      "cell_type": "markdown",
      "metadata": {
        "id": "yp5Nn7lzV3J6",
        "colab_type": "text"
      },
      "source": [
        "# Load pytorch library"
      ]
    },
    {
      "cell_type": "code",
      "metadata": {
        "id": "sZzTc_qcr0ge",
        "colab_type": "code",
        "colab": {}
      },
      "source": [
        "import torch\n",
        "import torchvision\n",
        "import torchvision.transforms as transforms\n"
      ],
      "execution_count": 0,
      "outputs": []
    },
    {
      "cell_type": "markdown",
      "metadata": {
        "id": "KtysNYMHV-XR",
        "colab_type": "text"
      },
      "source": [
        "# Define validation dataset ratio"
      ]
    },
    {
      "cell_type": "code",
      "metadata": {
        "id": "yO2LXvudAog6",
        "colab_type": "code",
        "colab": {}
      },
      "source": [
        "\n",
        "valid_ratio = 0.3"
      ],
      "execution_count": 0,
      "outputs": []
    },
    {
      "cell_type": "markdown",
      "metadata": {
        "id": "m77sHXmJWHfx",
        "colab_type": "text"
      },
      "source": [
        "# Define the MNIST training and validation sets, and possible transforms to be applied. Optional augmentation can be done within the transform. "
      ]
    },
    {
      "cell_type": "code",
      "metadata": {
        "id": "JNDByYIhr4TU",
        "colab_type": "code",
        "colab": {}
      },
      "source": [
        "transform = transforms.Compose(\n",
        "    [\n",
        "    #  transforms.RandomRotation(degrees=30),\n",
        "     transforms.ToTensor(),\n",
        "     transforms.Normalize((0.1307,), (0.3081,))])\n",
        "\n",
        "train_valid_dataset = torchvision.datasets.MNIST(root='./data', train=True,\n",
        "                                        download=True, transform=transform)\n",
        "nb_train = int((1.0 - valid_ratio) * len(train_valid_dataset))\n",
        "nb_valid =  int(valid_ratio * len(train_valid_dataset))\n",
        "train_dataset, valid_dataset = torch.utils.data.dataset.random_split(train_valid_dataset, [nb_train, nb_valid])\n",
        "trainloader = torch.utils.data.DataLoader(train_dataset, batch_size=500,\n",
        "                                          shuffle=True)\n",
        "validloader = torch.utils.data.DataLoader(valid_dataset, batch_size=500,\n",
        "                                          shuffle=True)\n",
        "\n",
        "classes = ('0', '1', '2', '3',\n",
        "           '4', '5', '6', '7', '8', '9')"
      ],
      "execution_count": 0,
      "outputs": []
    },
    {
      "cell_type": "markdown",
      "metadata": {
        "id": "bEynLBaxWrnQ",
        "colab_type": "text"
      },
      "source": [
        "# Visualize the MNIST dataset."
      ]
    },
    {
      "cell_type": "code",
      "metadata": {
        "id": "EO8X36thsFKF",
        "colab_type": "code",
        "outputId": "216d08d7-badf-43a1-ad0d-6120b3c2a63e",
        "colab": {
          "base_uri": "https://localhost:8080/",
          "height": 172
        }
      },
      "source": [
        "import matplotlib.pyplot as plt\n",
        "import numpy as np\n",
        "\n",
        "# functions to show an image\n",
        "\n",
        "\n",
        "def imshow(img):\n",
        "    img = img / 2 + 0.5     # unnormalize\n",
        "    npimg = img.numpy()\n",
        "    plt.imshow(np.transpose(npimg, (1, 2, 0)))\n",
        "    plt.show()\n",
        "\n",
        "\n",
        "# get some random training images\n",
        "dataiter = iter(trainloader)\n",
        "images, labels = dataiter.next()\n",
        "\n",
        "# show images\n",
        "imshow(torchvision.utils.make_grid(images[:4,]))\n",
        "# print labels\n",
        "print(' '.join('%5s' % classes[labels[j]] for j in range(4)))"
      ],
      "execution_count": 14,
      "outputs": [
        {
          "output_type": "stream",
          "text": [
            "Clipping input data to the valid range for imshow with RGB data ([0..1] for floats or [0..255] for integers).\n"
          ],
          "name": "stderr"
        },
        {
          "output_type": "display_data",
          "data": {
            "image/png": "[encoded data removed]",
            "text/plain": [
              "<Figure size 432x288 with 1 Axes>"
            ]
          },
          "metadata": {
            "tags": []
          }
        },
        {
          "output_type": "stream",
          "text": [
            "    8     6     8     0\n"
          ],
          "name": "stdout"
        }
      ]
    },
    {
      "cell_type": "markdown",
      "metadata": {
        "id": "9CUKf7kcW3Rh",
        "colab_type": "text"
      },
      "source": [
        "# Construct the CNN."
      ]
    },
    {
      "cell_type": "code",
      "metadata": {
        "id": "LOsjlBUKsbTF",
        "colab_type": "code",
        "colab": {}
      },
      "source": [
        "import torch.nn as nn\n",
        "import torch.nn.functional as F\n",
        "\n",
        "\n",
        "class Net(nn.Module):\n",
        "    def __init__(self):\n",
        "        super(Net, self).__init__()\n",
        "        self.conv1 = nn.Conv2d(1, 16, kernel_size=3, stride=1, padding=1)\n",
        "        self.pool = nn.MaxPool2d(kernel_size=2, stride=2, padding=0)\n",
        "        self.conv2 = nn.Conv2d(16, 32, kernel_size=3, stride=1, padding=1)\n",
        "        self.conv3 = nn.Conv2d(32, 32, kernel_size=3, stride=1, padding=1)\n",
        "        self.fc1 = nn.Linear(32 * 7 * 7, 512)\n",
        "        self.fc2 = nn.Linear(512, 128)\n",
        "        self.fc3 = nn.Linear(128, 10)\n",
        "\n",
        "    def forward(self, x):\n",
        "        x = self.pool(F.relu(self.conv1(x)))\n",
        "        x = self.pool(F.relu(self.conv2(x)))\n",
        "        x = F.relu(self.conv3(x))\n",
        "        x = x.view(-1, 32 * 7 * 7)\n",
        "        x = F.relu(self.fc1(x))\n",
        "        x = F.relu(self.fc2(x))\n",
        "        x = self.fc3(x)\n",
        "        return x\n",
        "\n"
      ],
      "execution_count": 0,
      "outputs": []
    },
    {
      "cell_type": "markdown",
      "metadata": {
        "id": "_FC-AEZXXJE4",
        "colab_type": "text"
      },
      "source": [
        "# Instantiate the CNN and print out the number of parameters."
      ]
    },
    {
      "cell_type": "code",
      "metadata": {
        "id": "ghak7OKCXXpK",
        "colab_type": "code",
        "outputId": "b151f9a0-4ba9-498c-db97-07d37855b549",
        "colab": {
          "base_uri": "https://localhost:8080/",
          "height": 34
        }
      },
      "source": [
        "net = Net()\n",
        "print(sum([p.numel() for p in net.parameters()]))"
      ],
      "execution_count": 16,
      "outputs": [
        {
          "output_type": "stream",
          "text": [
            "884330\n"
          ],
          "name": "stdout"
        }
      ]
    },
    {
      "cell_type": "markdown",
      "metadata": {
        "id": "slDGVTtkXd-Z",
        "colab_type": "text"
      },
      "source": [
        "# Define the loss function and the optimizer."
      ]
    },
    {
      "cell_type": "code",
      "metadata": {
        "id": "ml4xvTi7sgCE",
        "colab_type": "code",
        "colab": {}
      },
      "source": [
        "import torch.optim as optim\n",
        "import torch.nn as nn\n",
        "import torch.nn.functional as F\n",
        "\n",
        "criterion = nn.CrossEntropyLoss()\n",
        "optimizer = optim.Adam(net.parameters(), lr=0.01)"
      ],
      "execution_count": 0,
      "outputs": []
    },
    {
      "cell_type": "markdown",
      "metadata": {
        "id": "M9WLDB1R0CnA",
        "colab_type": "text"
      },
      "source": [
        "# Select the device to train the CNN! \"cuda:0\" means the first GPU device."
      ]
    },
    {
      "cell_type": "code",
      "metadata": {
        "id": "W90Lsx16swAe",
        "colab_type": "code",
        "outputId": "97e62b88-5500-4214-ddfd-6d4838522e86",
        "colab": {
          "base_uri": "https://localhost:8080/",
          "height": 187
        }
      },
      "source": [
        "device = torch.device(\"cuda:0\" if torch.cuda.is_available() else \"cpu\")\n",
        "print(device)\n",
        "net.to(device)"
      ],
      "execution_count": 18,
      "outputs": [
        {
          "output_type": "stream",
          "text": [
            "cuda:0\n"
          ],
          "name": "stdout"
        },
        {
          "output_type": "execute_result",
          "data": {
            "text/plain": [
              "Net(\n",
              "  (conv1): Conv2d(1, 16, kernel_size=(3, 3), stride=(1, 1), padding=(1, 1))\n",
              "  (pool): MaxPool2d(kernel_size=2, stride=2, padding=0, dilation=1, ceil_mode=False)\n",
              "  (conv2): Conv2d(16, 32, kernel_size=(3, 3), stride=(1, 1), padding=(1, 1))\n",
              "  (conv3): Conv2d(32, 32, kernel_size=(3, 3), stride=(1, 1), padding=(1, 1))\n",
              "  (fc1): Linear(in_features=1568, out_features=512, bias=True)\n",
              "  (fc2): Linear(in_features=512, out_features=128, bias=True)\n",
              "  (fc3): Linear(in_features=128, out_features=10, bias=True)\n",
              ")"
            ]
          },
          "metadata": {
            "tags": []
          },
          "execution_count": 18
        }
      ]
    },
    {
      "cell_type": "markdown",
      "metadata": {
        "id": "La3a6S81YSWs",
        "colab_type": "text"
      },
      "source": [
        "# Mount your google drive to current virtual machine. And define the path to store the trained CNN parameters."
      ]
    },
    {
      "cell_type": "code",
      "metadata": {
        "id": "zwLWBzgOuYZW",
        "colab_type": "code",
        "outputId": "64620603-12c4-497a-e3ab-ece2f7a64269",
        "colab": {
          "base_uri": "https://localhost:8080/",
          "height": 34
        }
      },
      "source": [
        "from google.colab import drive\n",
        "drive.mount('/content/drive')\n",
        "PATH = 'drive/My Drive/ML19/mnist_net.pth'\n"
      ],
      "execution_count": 19,
      "outputs": [
        {
          "output_type": "stream",
          "text": [
            "Drive already mounted at /content/drive; to attempt to forcibly remount, call drive.mount(\"/content/drive\", force_remount=True).\n"
          ],
          "name": "stdout"
        }
      ]
    },
    {
      "cell_type": "markdown",
      "metadata": {
        "id": "8dLwz9XsYkNJ",
        "colab_type": "text"
      },
      "source": [
        "# Train the CNN and store the best model based on the validation loss."
      ]
    },
    {
      "cell_type": "code",
      "metadata": {
        "id": "csCvcF7Ss1Ud",
        "colab_type": "code",
        "outputId": "83001a41-dbe7-4694-95bd-d4732fe9ed6c",
        "colab": {
          "base_uri": "https://localhost:8080/",
          "height": 374
        }
      },
      "source": [
        "import time\n",
        "\n",
        "start_time = time.time()\n",
        "best_loss = np.float('inf')\n",
        "for epoch in range(10):  # loop over the dataset multiple times\n",
        "\n",
        "    running_loss = 0.0\n",
        "    for i, data in enumerate(trainloader, 0):\n",
        "        # get the inputs; data is a list of [inputs, labels]\n",
        "        inputs, labels = data[0].to(device), data[1].to(device)\n",
        "\n",
        "        # zero the parameter gradients\n",
        "        optimizer.zero_grad()\n",
        "\n",
        "        # forward + backward + optimize\n",
        "        outputs = net(inputs)\n",
        "        loss = criterion(outputs, labels)\n",
        "        loss.backward()\n",
        "        optimizer.step()\n",
        "\n",
        "        # print statistics\n",
        "        running_loss += loss.item()\n",
        "    epoch_loss = running_loss / (i+1)\n",
        "    print(\"Epoch: \", epoch, \" train loss: \", '%.3f' % epoch_loss)\n",
        "    with torch.no_grad(): \n",
        "      running_loss = 0.0\n",
        "      for i, data in enumerate(validloader, 0):\n",
        "          # get the inputs; data is a list of [inputs, labels]\n",
        "          inputs, labels = data[0].to(device), data[1].to(device)\n",
        "\n",
        "          # forward \n",
        "          outputs = net(inputs)\n",
        "          loss = criterion(outputs, labels)\n",
        "\n",
        "          # print statistics\n",
        "          running_loss += loss.item()\n",
        "      epoch_loss = running_loss / (i+1)\n",
        "      print(\"Epoch: \", epoch, \" validation loss: \", '%.3f' % epoch_loss)\n",
        "      if epoch_loss < best_loss:\n",
        "        torch.save(net.state_dict(), PATH)\n",
        "        best_loss = epoch_loss\n",
        "\n",
        "time_elap = (time.time() - start_time) // 60\n",
        "print('Finished Training in %d mins' % time_elap)"
      ],
      "execution_count": 20,
      "outputs": [
        {
          "output_type": "stream",
          "text": [
            "Epoch:  0  train loss:  0.546\n",
            "Epoch:  0  validation loss:  0.106\n",
            "Epoch:  1  train loss:  0.086\n",
            "Epoch:  1  validation loss:  0.084\n",
            "Epoch:  2  train loss:  0.060\n",
            "Epoch:  2  validation loss:  0.068\n",
            "Epoch:  3  train loss:  0.046\n",
            "Epoch:  3  validation loss:  0.053\n",
            "Epoch:  4  train loss:  0.035\n",
            "Epoch:  4  validation loss:  0.062\n",
            "Epoch:  5  train loss:  0.035\n",
            "Epoch:  5  validation loss:  0.062\n",
            "Epoch:  6  train loss:  0.033\n",
            "Epoch:  6  validation loss:  0.057\n",
            "Epoch:  7  train loss:  0.029\n",
            "Epoch:  7  validation loss:  0.065\n",
            "Epoch:  8  train loss:  0.030\n",
            "Epoch:  8  validation loss:  0.075\n",
            "Epoch:  9  train loss:  0.025\n",
            "Epoch:  9  validation loss:  0.065\n",
            "Finished Training in 2 mins\n"
          ],
          "name": "stdout"
        }
      ]
    },
    {
      "cell_type": "markdown",
      "metadata": {
        "id": "yfvPe-jSYsrR",
        "colab_type": "text"
      },
      "source": [
        "# Define the test dataset."
      ]
    },
    {
      "cell_type": "code",
      "metadata": {
        "id": "UQSOIHv7yf-3",
        "colab_type": "code",
        "colab": {}
      },
      "source": [
        "transform = transforms.Compose(\n",
        "     [transforms.ToTensor(),\n",
        "     transforms.Normalize((0.1307,), (0.3081,))])\n",
        "testset = torchvision.datasets.MNIST(root='./data', train=False,\n",
        "                                       download=True, transform=transform)\n",
        "testloader = torch.utils.data.DataLoader(testset, batch_size=4,\n",
        "                                         shuffle=False, num_workers=1)"
      ],
      "execution_count": 0,
      "outputs": []
    },
    {
      "cell_type": "markdown",
      "metadata": {
        "id": "4nqrJcR2Yzs5",
        "colab_type": "text"
      },
      "source": [
        "# Visualize the test dataset."
      ]
    },
    {
      "cell_type": "code",
      "metadata": {
        "id": "TqvrOr83y2B1",
        "colab_type": "code",
        "outputId": "605fb531-f82d-4e11-c85f-e87ffe630233",
        "colab": {
          "base_uri": "https://localhost:8080/",
          "height": 172
        }
      },
      "source": [
        "import matplotlib.pyplot as plt\n",
        "import numpy as np\n",
        "\n",
        "def imshow(img):\n",
        "    img = img / 2 + 0.5     # unnormalize\n",
        "    npimg = img.numpy()\n",
        "    plt.imshow(np.transpose(npimg, (1, 2, 0)))\n",
        "    plt.show()\n",
        "    \n",
        "dataiter = iter(testloader)\n",
        "images, labels = dataiter.next()\n",
        "\n",
        "# print images\n",
        "imshow(torchvision.utils.make_grid(images))\n",
        "print('GroundTruth: ', ' '.join('%5s' % classes[labels[j]] for j in range(4)))"
      ],
      "execution_count": 22,
      "outputs": [
        {
          "output_type": "stream",
          "text": [
            "Clipping input data to the valid range for imshow with RGB data ([0..1] for floats or [0..255] for integers).\n"
          ],
          "name": "stderr"
        },
        {
          "output_type": "display_data",
          "data": {
            "image/png": "[encoded data removed]",
            "text/plain": [
              "<Figure size 432x288 with 1 Axes>"
            ]
          },
          "metadata": {
            "tags": []
          }
        },
        {
          "output_type": "stream",
          "text": [
            "GroundTruth:      7     2     1     0\n"
          ],
          "name": "stdout"
        }
      ]
    },
    {
      "cell_type": "markdown",
      "metadata": {
        "id": "l8DMyi8-Y4nB",
        "colab_type": "text"
      },
      "source": [
        "# Load the learned CNN parameters. This is required when you have trained the CNN and do no want to train it again by loading the learned parameters."
      ]
    },
    {
      "cell_type": "code",
      "metadata": {
        "id": "QTELpZUNy5yV",
        "colab_type": "code",
        "outputId": "9bd10573-26d0-492c-9a0b-edd7c4231b3b",
        "colab": {
          "base_uri": "https://localhost:8080/",
          "height": 34
        }
      },
      "source": [
        "net.load_state_dict(torch.load(PATH))"
      ],
      "execution_count": 23,
      "outputs": [
        {
          "output_type": "execute_result",
          "data": {
            "text/plain": [
              "<All keys matched successfully>"
            ]
          },
          "metadata": {
            "tags": []
          },
          "execution_count": 23
        }
      ]
    },
    {
      "cell_type": "markdown",
      "metadata": {
        "id": "fL7bMIiyZeFr",
        "colab_type": "text"
      },
      "source": [
        "# Get the predictions for the first 4 images in the test dataset."
      ]
    },
    {
      "cell_type": "code",
      "metadata": {
        "id": "lQeFNxLTzBxN",
        "colab_type": "code",
        "outputId": "8f02f942-0b8f-4275-d512-ac6a3b252a24",
        "colab": {
          "base_uri": "https://localhost:8080/",
          "height": 34
        }
      },
      "source": [
        "with torch.no_grad():\n",
        "  outputs = net(images.to(device))\n",
        "  _, predicted = torch.max(outputs, 1)\n",
        "\n",
        "print('Predicted: ', ' '.join('%5s' % classes[predicted[j]]\n",
        "                              for j in range(4)))"
      ],
      "execution_count": 24,
      "outputs": [
        {
          "output_type": "stream",
          "text": [
            "Predicted:      7     2     1     0\n"
          ],
          "name": "stdout"
        }
      ]
    },
    {
      "cell_type": "markdown",
      "metadata": {
        "id": "3r7FPw9MZoMB",
        "colab_type": "text"
      },
      "source": [
        "# Infer on the whole test dataset."
      ]
    },
    {
      "cell_type": "code",
      "metadata": {
        "id": "F246Hc0QzLLV",
        "colab_type": "code",
        "outputId": "20088d32-8d83-47cf-d23c-377b2c8836a0",
        "colab": {
          "base_uri": "https://localhost:8080/",
          "height": 34
        }
      },
      "source": [
        "testloader = torch.utils.data.DataLoader(testset, batch_size=200,\n",
        "                                         shuffle=False, num_workers=1)\n",
        "correct = 0\n",
        "total = 0\n",
        "with torch.no_grad():\n",
        "    for data in testloader:\n",
        "        images, labels = data\n",
        "        outputs = net(images.to(device))\n",
        "        _, predicted = torch.max(outputs.data, 1)\n",
        "        total += labels.size(0)\n",
        "        correct += (predicted == labels.to(device)).sum().item()\n",
        "\n",
        "print('Accuracy of the network on the 10000 test images: %.3F %%' % (\n",
        "    100 * correct / total))"
      ],
      "execution_count": 25,
      "outputs": [
        {
          "output_type": "stream",
          "text": [
            "Accuracy of the network on the 10000 test images: 98.430 %\n"
          ],
          "name": "stdout"
        }
      ]
    },
    {
      "cell_type": "markdown",
      "metadata": {
        "id": "JOZILCzoZyQC",
        "colab_type": "text"
      },
      "source": [
        "# check the GPU device assigned by Google."
      ]
    },
    {
      "cell_type": "code",
      "metadata": {
        "id": "SYHUVXeezVx2",
        "colab_type": "code",
        "outputId": "db681901-8ab4-4376-ce4a-7449b1ab6a4f",
        "colab": {
          "base_uri": "https://localhost:8080/",
          "height": 289
        }
      },
      "source": [
        "!ln -sf /opt/bin/nvidia-smi /usr/bin/nvidia-smi\n",
        "import subprocess\n",
        "print(subprocess.getoutput('nvidia-smi'))"
      ],
      "execution_count": 26,
      "outputs": [
        {
          "output_type": "stream",
          "text": [
            "Fri Nov 15 19:46:41 2019       \n",
            "+-----------------------------------------------------------------------------+\n",
            "| NVIDIA-SMI 418.67       Driver Version: 418.67       CUDA Version: 10.1     |\n",
            "|-------------------------------+----------------------+----------------------+\n",
            "| GPU  Name        Persistence-M| Bus-Id        Disp.A | Volatile Uncorr. ECC |\n",
            "| Fan  Temp  Perf  Pwr:Usage/Cap|         Memory-Usage | GPU-Util  Compute M. |\n",
            "|===============================+======================+======================|\n",
            "|   0  Tesla K80           Off  | 00000000:00:04.0 Off |                    0 |\n",
            "| N/A   57C    P0    63W / 149W |    541MiB / 11441MiB |      0%      Default |\n",
            "+-------------------------------+----------------------+----------------------+\n",
            "                                                                               \n",
            "+-----------------------------------------------------------------------------+\n",
            "| Processes:                                                       GPU Memory |\n",
            "|  GPU       PID   Type   Process name                             Usage      |\n",
            "|=============================================================================|\n",
            "+-----------------------------------------------------------------------------+\n"
          ],
          "name": "stdout"
        }
      ]
    }
  ]
}